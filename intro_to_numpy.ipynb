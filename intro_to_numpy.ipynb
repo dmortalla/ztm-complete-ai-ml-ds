{
  "cells": [
    {
      "cell_type": "markdown",
      "metadata": {
        "id": "view-in-github",
        "colab_type": "text"
      },
      "source": [
        "<a href=\"https://colab.research.google.com/github/dmortalla/ztm-complete-ai-ml-ds/blob/main/intro_to_numpy.ipynb\" target=\"_parent\"><img src=\"https://colab.research.google.com/assets/colab-badge.svg\" alt=\"Open In Colab\"/></a>"
      ]
    },
    {
      "cell_type": "code",
      "execution_count": null,
      "id": "f30ea6ff-2c53-4851-94f7-2514f793634b",
      "metadata": {
        "id": "f30ea6ff-2c53-4851-94f7-2514f793634b"
      },
      "outputs": [],
      "source": [
        "import numpy as np"
      ]
    },
    {
      "cell_type": "markdown",
      "id": "bfdc70e0-b8bb-438a-8bf1-345ba0ac410d",
      "metadata": {
        "id": "bfdc70e0-b8bb-438a-8bf1-345ba0ac410d"
      },
      "source": [
        "## 1. Data Types and Attributes"
      ]
    },
    {
      "cell_type": "code",
      "execution_count": null,
      "id": "2a22ea9a-d263-4745-8a1d-05b65d9e0e11",
      "metadata": {
        "id": "2a22ea9a-d263-4745-8a1d-05b65d9e0e11",
        "outputId": "9151309c-b8a7-4d82-fd70-93125aaf4542"
      },
      "outputs": [
        {
          "data": {
            "text/plain": [
              "array([1, 2, 3])"
            ]
          },
          "execution_count": 3,
          "metadata": {},
          "output_type": "execute_result"
        }
      ],
      "source": [
        "# Numpy's main datatype is ndarray, a list of numbers\n",
        "a1 = np.array([1, 2, 3])\n",
        "a1"
      ]
    },
    {
      "cell_type": "code",
      "execution_count": null,
      "id": "53357f04-93da-47b0-9876-4b38edabebcd",
      "metadata": {
        "id": "53357f04-93da-47b0-9876-4b38edabebcd",
        "outputId": "6c4bab97-0fb9-4e6e-876e-1e4fbc77d302"
      },
      "outputs": [
        {
          "data": {
            "text/plain": [
              "numpy.ndarray"
            ]
          },
          "execution_count": 4,
          "metadata": {},
          "output_type": "execute_result"
        }
      ],
      "source": [
        "# Check the datatype\n",
        "type(a1)"
      ]
    },
    {
      "cell_type": "code",
      "execution_count": null,
      "id": "0d4ea5c1-32c0-4afb-8fde-d5f0a8f1604a",
      "metadata": {
        "id": "0d4ea5c1-32c0-4afb-8fde-d5f0a8f1604a",
        "outputId": "cf308364-992e-4673-f9b7-d554a323f1c1"
      },
      "outputs": [
        {
          "name": "stdout",
          "output_type": "stream",
          "text": [
            "The array is: [[1.  2.  3.3]\n",
            " [4.  5.  6.5]]\n",
            "Its dimension is 2, its shape is (2, 3), and its size is 6.\n",
            "The datatype is float64 while the array is of type <class 'numpy.ndarray'>.\n"
          ]
        }
      ],
      "source": [
        "# Create the array\n",
        "a2 = np.array([[1, 2.0, 3.3],\n",
        "              [4, 5, 6.5]])\n",
        "\n",
        "# Display the array with its dimnesion, shape, amd size\n",
        "print(f\"The array is: {a2}\")\n",
        "print(f\"Its dimension is {a2.ndim}, its shape is {a2.shape}, and its size is {a2.size}.\")\n",
        "print(f\"The datatype is {a2.dtype} while the array is of type {type(a2)}.\")\n"
      ]
    },
    {
      "cell_type": "code",
      "execution_count": null,
      "id": "a2970a18-9a97-4a65-b75a-09e33b587b16",
      "metadata": {
        "id": "a2970a18-9a97-4a65-b75a-09e33b587b16",
        "outputId": "06388725-cc09-4204-e87b-62657cfa3374"
      },
      "outputs": [
        {
          "name": "stdout",
          "output_type": "stream",
          "text": [
            "The array is: [[[ 1  2  3]\n",
            "  [ 4  5  6]\n",
            "  [ 7  8  9]]\n",
            "\n",
            " [[10 11 12]\n",
            "  [13 14 15]\n",
            "  [16 17 18]]]\n",
            "Its dimension is 3, its shape is (2, 3, 3), and its size is 18.\n",
            "The datatype is int32 while the array is of type <class 'numpy.ndarray'>.\n"
          ]
        }
      ],
      "source": [
        "# Create the array\n",
        "a3 = np.array([[[1, 2, 3],\n",
        "                [4, 5, 6],\n",
        "                [7, 8, 9]],\n",
        "               [[10, 11, 12],\n",
        "                [13, 14, 15],\n",
        "                [16, 17, 18]]\n",
        "              ])\n",
        "# Display the array with its dimnesion, shape, amd size\n",
        "print(f\"The array is: {a3}\")\n",
        "print(f\"Its dimension is {a3.ndim}, its shape is {a3.shape}, and its size is {a3.size}.\")\n",
        "print(f\"The datatype is {a3.dtype} while the array is of type {type(a3)}.\")\n"
      ]
    },
    {
      "cell_type": "code",
      "execution_count": null,
      "id": "e0521582-0a09-43a6-83c8-195669031928",
      "metadata": {
        "id": "e0521582-0a09-43a6-83c8-195669031928",
        "outputId": "c0f608cf-7de3-4098-aeba-606fa58bd390"
      },
      "outputs": [
        {
          "name": "stdout",
          "output_type": "stream",
          "text": [
            "The array is: [[[ 1  2  3]\n",
            "  [ 4  5  6]]\n",
            "\n",
            " [[ 7  8  9]\n",
            "  [10 11 12]]\n",
            "\n",
            " [[13 14 15]\n",
            "  [16 17 18]]]\n",
            "Its dimension is 3, its shape is (3, 2, 3), and its size is 18.\n",
            "The datatype is int32 while the array is of type <class 'numpy.ndarray'>.\n"
          ]
        }
      ],
      "source": [
        "# Create the array\n",
        "a4 = np.array([[[1, 2, 3],\n",
        "                [4, 5, 6]],\n",
        "               [[7, 8, 9],\n",
        "                [10, 11, 12]],\n",
        "               [[13, 14, 15],\n",
        "                [16, 17, 18]]\n",
        "               ])\n",
        "# Display the array with its dimnesion, shape, amd size\n",
        "print(f\"The array is: {a4}\")\n",
        "print(f\"Its dimension is {a4.ndim}, its shape is {a4.shape}, and its size is {a4.size}.\")\n",
        "print(f\"The datatype is {a4.dtype} while the array is of type {type(a4)}.\")\n"
      ]
    },
    {
      "cell_type": "code",
      "execution_count": null,
      "id": "a2c08780-5020-41d3-967f-ea6c67f9c50b",
      "metadata": {
        "id": "a2c08780-5020-41d3-967f-ea6c67f9c50b",
        "outputId": "f724b3e4-1a04-4800-c779-7f46e9acf806"
      },
      "outputs": [
        {
          "data": {
            "text/html": [
              "<div>\n",
              "<style scoped>\n",
              "    .dataframe tbody tr th:only-of-type {\n",
              "        vertical-align: middle;\n",
              "    }\n",
              "\n",
              "    .dataframe tbody tr th {\n",
              "        vertical-align: top;\n",
              "    }\n",
              "\n",
              "    .dataframe thead th {\n",
              "        text-align: right;\n",
              "    }\n",
              "</style>\n",
              "<table border=\"1\" class=\"dataframe\">\n",
              "  <thead>\n",
              "    <tr style=\"text-align: right;\">\n",
              "      <th></th>\n",
              "      <th>0</th>\n",
              "      <th>1</th>\n",
              "      <th>2</th>\n",
              "    </tr>\n",
              "  </thead>\n",
              "  <tbody>\n",
              "    <tr>\n",
              "      <th>0</th>\n",
              "      <td>1.0</td>\n",
              "      <td>2.0</td>\n",
              "      <td>3.3</td>\n",
              "    </tr>\n",
              "    <tr>\n",
              "      <th>1</th>\n",
              "      <td>4.0</td>\n",
              "      <td>5.0</td>\n",
              "      <td>6.5</td>\n",
              "    </tr>\n",
              "  </tbody>\n",
              "</table>\n",
              "</div>"
            ],
            "text/plain": [
              "     0    1    2\n",
              "0  1.0  2.0  3.3\n",
              "1  4.0  5.0  6.5"
            ]
          },
          "execution_count": 8,
          "metadata": {},
          "output_type": "execute_result"
        }
      ],
      "source": [
        "# Create a 2-dim dataframe from a 2-dim Numpy array\n",
        "import pandas as pd\n",
        "\n",
        "df2 = pd.DataFrame(a2)\n",
        "df2"
      ]
    },
    {
      "cell_type": "code",
      "execution_count": null,
      "id": "7132945b-cbfc-4258-b4ad-99ea9ec897a8",
      "metadata": {
        "id": "7132945b-cbfc-4258-b4ad-99ea9ec897a8",
        "outputId": "8d62c67f-fc7e-4239-9e32-e0f3780b95e2"
      },
      "outputs": [
        {
          "name": "stdout",
          "output_type": "stream",
          "text": [
            "           Feature_0  Feature_1  Feature_2\n",
            "Dim1 Dim2                                 \n",
            "0    0             1          2          3\n",
            "     1             4          5          6\n",
            "     2             7          8          9\n",
            "1    0            10         11         12\n",
            "     1            13         14         15\n",
            "     2            16         17         18\n"
          ]
        }
      ],
      "source": [
        "# Create a 3-dim dataframe from a 3-dim Numpy array\n",
        "# Step 1: Reshape the 3D array to 2D by flattening the last dim\n",
        "a3_2d = a3.reshape(-1, a3.shape[-1])\n",
        "\n",
        "# Step 1: Create the DataFrame using multi-inde to retain original 3D structure\n",
        "index = pd.MultiIndex.from_product([range(s) for s in a3.shape[:-1]], names=['Dim1', 'Dim2'])\n",
        "df_a3 = pd.DataFrame(a3_2d, index=index, columns=[f'Feature_{i}' for i in range(a3.shape[-1])])\n",
        "\n",
        "print(df_a3)"
      ]
    },
    {
      "cell_type": "code",
      "execution_count": null,
      "id": "f31f92c9-dfb6-4f68-9413-1d6b4520ea94",
      "metadata": {
        "id": "f31f92c9-dfb6-4f68-9413-1d6b4520ea94",
        "outputId": "45f9b0cb-2546-430c-f1d4-a27301849865"
      },
      "outputs": [
        {
          "name": "stdout",
          "output_type": "stream",
          "text": [
            "           Feature_0  Feature_1  Feature_2\n",
            "Dim1 Dim2                                 \n",
            "0    0             1          2          3\n",
            "     1             4          5          6\n",
            "1    0             7          8          9\n",
            "     1            10         11         12\n",
            "2    0            13         14         15\n",
            "     1            16         17         18\n"
          ]
        }
      ],
      "source": [
        "# Create a 3-dim dataframe from a 3-dim Numpy array\n",
        "# Step 1: Reshape the 3D array to 2D by flattening the last dim\n",
        "a4_2d = a4.reshape(-1, a4.shape[-1])\n",
        "\n",
        "# Step 1: Create the DataFrame using multi-inde to retain original 3D structure\n",
        "index = pd.MultiIndex.from_product([range(s) for s in a4.shape[:-1]], names=['Dim1', 'Dim2'])\n",
        "df_a4 = pd.DataFrame(a4_2d, index=index, columns=[f'Feature_{i}' for i in range(a4.shape[-1])])\n",
        "\n",
        "print(df_a4)"
      ]
    },
    {
      "cell_type": "markdown",
      "id": "c0aedde6-b1fa-42bd-a807-c984bf82bc0b",
      "metadata": {
        "id": "c0aedde6-b1fa-42bd-a807-c984bf82bc0b"
      },
      "source": [
        "## 2. Creating preset Numpy arrays\n",
        "To view the docstring of a Numpy method, click [SHIFT + TAB] while inside the parentheses ( )."
      ]
    },
    {
      "cell_type": "code",
      "execution_count": null,
      "id": "b04bb48d-7da9-489b-8721-c02e83bb1d9c",
      "metadata": {
        "id": "b04bb48d-7da9-489b-8721-c02e83bb1d9c",
        "outputId": "8d071d61-27e4-49ce-bd2e-3990f681e1f0"
      },
      "outputs": [
        {
          "data": {
            "text/plain": [
              "array([[1, 1, 1],\n",
              "       [1, 1, 1]])"
            ]
          },
          "execution_count": 34,
          "metadata": {},
          "output_type": "execute_result"
        }
      ],
      "source": [
        "# Array of ones of given shape\n",
        "ones = np.ones((2, 3), dtype='int32')\n",
        "ones"
      ]
    },
    {
      "cell_type": "code",
      "execution_count": null,
      "id": "ff5ef6a7-3356-4d05-8366-4025d248b619",
      "metadata": {
        "id": "ff5ef6a7-3356-4d05-8366-4025d248b619",
        "outputId": "10705332-3b67-4c84-b39b-e68efb4c2952"
      },
      "outputs": [
        {
          "data": {
            "text/plain": [
              "dtype('int32')"
            ]
          },
          "execution_count": 36,
          "metadata": {},
          "output_type": "execute_result"
        }
      ],
      "source": [
        "ones.dtype"
      ]
    },
    {
      "cell_type": "code",
      "execution_count": null,
      "id": "9ac2b426-997b-4d92-972d-0b2b87b74f6b",
      "metadata": {
        "id": "9ac2b426-997b-4d92-972d-0b2b87b74f6b",
        "outputId": "cdc60a3f-5c0b-42e5-870f-0e15e856a1b7"
      },
      "outputs": [
        {
          "data": {
            "text/plain": [
              "array([[0., 0., 0., 0.],\n",
              "       [0., 0., 0., 0.]])"
            ]
          },
          "execution_count": 38,
          "metadata": {},
          "output_type": "execute_result"
        }
      ],
      "source": [
        "# Array of zeros\n",
        "zeros = np.zeros((2, 4))\n",
        "zeros"
      ]
    },
    {
      "cell_type": "code",
      "execution_count": null,
      "id": "318f2ea4-394c-4b96-8950-c01770d20ce5",
      "metadata": {
        "id": "318f2ea4-394c-4b96-8950-c01770d20ce5",
        "outputId": "22db253c-4944-4a18-b84a-376a61396717"
      },
      "outputs": [
        {
          "data": {
            "text/plain": [
              "dtype('float64')"
            ]
          },
          "execution_count": 40,
          "metadata": {},
          "output_type": "execute_result"
        }
      ],
      "source": [
        "zeros.dtype"
      ]
    },
    {
      "cell_type": "code",
      "execution_count": null,
      "id": "bfd99cd7-119c-449c-a0f3-65ae10f5acdd",
      "metadata": {
        "id": "bfd99cd7-119c-449c-a0f3-65ae10f5acdd",
        "outputId": "fbcd8b45-31ec-430d-b22e-19be94906723"
      },
      "outputs": [
        {
          "data": {
            "text/plain": [
              "array([0, 2, 4, 6, 8])"
            ]
          },
          "execution_count": 42,
          "metadata": {},
          "output_type": "execute_result"
        }
      ],
      "source": [
        "# Array of numbers in a range\n",
        "range_array = np.arange(0, 10, 2)\n",
        "range_array"
      ]
    },
    {
      "cell_type": "code",
      "execution_count": null,
      "id": "d5c1b51a-5742-4ad5-b727-ebd079b76511",
      "metadata": {
        "id": "d5c1b51a-5742-4ad5-b727-ebd079b76511",
        "outputId": "19900ff7-1109-4782-a828-7d6c59f86cfc"
      },
      "outputs": [
        {
          "data": {
            "text/plain": [
              "array([[6, 3, 8, 3],\n",
              "       [7, 8, 5, 7]])"
            ]
          },
          "execution_count": 44,
          "metadata": {},
          "output_type": "execute_result"
        }
      ],
      "source": [
        "# Array of random integers of given shape\n",
        "random_array = np.random.randint(3, 10, size=(2, 4))\n",
        "random_array"
      ]
    },
    {
      "cell_type": "code",
      "execution_count": null,
      "id": "f391e6cf-8180-4b83-a2b0-f4ef5f14d629",
      "metadata": {
        "id": "f391e6cf-8180-4b83-a2b0-f4ef5f14d629",
        "outputId": "f09a43ca-7c30-4818-824a-7a15e573ff9b"
      },
      "outputs": [
        {
          "data": {
            "text/plain": [
              "array([[0.4160358 , 0.16135503, 0.66660496, 0.76793943, 0.36958008],\n",
              "       [0.89421287, 0.40943518, 0.61970636, 0.8547741 , 0.31083618],\n",
              "       [0.79033786, 0.36148083, 0.49413014, 0.38522968, 0.81634273]])"
            ]
          },
          "execution_count": 48,
          "metadata": {},
          "output_type": "execute_result"
        }
      ],
      "source": [
        "# Array of random decimals between 0 and 1\n",
        "random_arr2 = np.random.random((3, 5))\n",
        "random_arr2"
      ]
    },
    {
      "cell_type": "code",
      "execution_count": null,
      "id": "6bb0dc24-3bd9-47d5-8df9-66f70c03ae32",
      "metadata": {
        "id": "6bb0dc24-3bd9-47d5-8df9-66f70c03ae32",
        "outputId": "1402df2b-5bd1-4e20-c60e-84475ea2c211"
      },
      "outputs": [
        {
          "data": {
            "text/plain": [
              "array([[0.312641  , 0.24925495, 0.88357152, 0.95112868, 0.97246333],\n",
              "       [0.5656856 , 0.05055926, 0.32149055, 0.32148024, 0.10408621],\n",
              "       [0.54442274, 0.04030426, 0.22185623, 0.97298944, 0.86427998]])"
            ]
          },
          "execution_count": 52,
          "metadata": {},
          "output_type": "execute_result"
        }
      ],
      "source": [
        "# Array of random decimals between 0 and 1 in a normal distribution\n",
        "random_arr3 = np.random.rand(3, 5)\n",
        "random_arr3"
      ]
    },
    {
      "cell_type": "code",
      "execution_count": null,
      "id": "caeea451-e722-491e-95cd-42ae1f7126fd",
      "metadata": {
        "id": "caeea451-e722-491e-95cd-42ae1f7126fd"
      },
      "outputs": [],
      "source": []
    }
  ],
  "metadata": {
    "kernelspec": {
      "display_name": "Python 3 (ipykernel)",
      "language": "python",
      "name": "python3"
    },
    "language_info": {
      "codemirror_mode": {
        "name": "ipython",
        "version": 3
      },
      "file_extension": ".py",
      "mimetype": "text/x-python",
      "name": "python",
      "nbconvert_exporter": "python",
      "pygments_lexer": "ipython3",
      "version": "3.12.4"
    },
    "colab": {
      "provenance": [],
      "include_colab_link": true
    }
  },
  "nbformat": 4,
  "nbformat_minor": 5
}